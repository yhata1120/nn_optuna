{
 "cells": [
  {
   "cell_type": "code",
   "execution_count": 1,
   "id": "a01519c5-e7e7-46af-9640-022036b03964",
   "metadata": {},
   "outputs": [],
   "source": [
    "import os\n",
    "import pickle\n",
    "import numpy as np\n",
    "import tensorflow as tf\n",
    "import tensorflow.keras.backend as K\n",
    "from tensorflow.keras.models import Model, clone_model, model_from_json\n",
    "from tensorflow.keras.layers import Dense, Input, Average, Lambda, Flatten, Reshape, BatchNormalization, Layer, Masking, LSTM\n",
    "from tensorflow.keras.losses import binary_crossentropy\n",
    "from tensorflow.keras.callbacks import ReduceLROnPlateau, ModelCheckpoint, EarlyStopping\n",
    "from sklearn.model_selection import KFold"
   ]
  },
  {
   "cell_type": "code",
   "execution_count": 2,
   "id": "13c0d03c-d3e6-4e19-929a-2e9809061a8d",
   "metadata": {},
   "outputs": [],
   "source": [
    "kf = KFold(n_splits=5, shuffle=True, random_state=0)"
   ]
  },
  {
   "cell_type": "code",
   "execution_count": 13,
   "id": "15cbd750-70c3-462d-8d34-786f6bbf00ed",
   "metadata": {},
   "outputs": [],
   "source": [
    "X_trainval = np.arange(100)"
   ]
  },
  {
   "cell_type": "code",
   "execution_count": 40,
   "id": "438e2331-b861-486e-84b4-ed1c0e1ea759",
   "metadata": {},
   "outputs": [
    {
     "name": "stdout",
     "output_type": "stream",
     "text": [
      "0\n",
      "80\n",
      "20\n",
      "1\n",
      "80\n",
      "20\n",
      "2\n",
      "80\n",
      "20\n",
      "3\n",
      "80\n",
      "20\n",
      "4\n",
      "80\n",
      "20\n"
     ]
    }
   ],
   "source": [
    "for fold, (train_indices, val_indices) in enumerate(kf.split(X_trainval)):\n",
    "    print(fold)\n",
    "    print(len(train_indices))\n",
    "    print(len(val_indices))"
   ]
  },
  {
   "cell_type": "code",
   "execution_count": 15,
   "id": "5061d8ce-b05c-4fe3-9b12-84bafd076ff7",
   "metadata": {},
   "outputs": [],
   "source": [
    "class Singer(object):\n",
    "    def __init__(self, lylics):\n",
    "        self.lylics = lylics\n",
    "    def sing(self):\n",
    "        print(self.lylics)"
   ]
  },
  {
   "cell_type": "code",
   "execution_count": 16,
   "id": "20558a3c-ea72-41dc-b846-6948ddf94e27",
   "metadata": {},
   "outputs": [],
   "source": [
    "import pickle\n",
    "\n",
    "singer = Singer('Shanranran')\n",
    "\n",
    "with open('singer.pickle', 'wb') as f:\n",
    "    pickle.dump(singer, f)"
   ]
  },
  {
   "cell_type": "code",
   "execution_count": 17,
   "id": "876bf704-c561-4b10-a3a1-1d560c9fc7e8",
   "metadata": {},
   "outputs": [
    {
     "name": "stdout",
     "output_type": "stream",
     "text": [
      "Shanranran\n"
     ]
    }
   ],
   "source": [
    "# \"インスタンス化したあと\"の状態を保持してくれる\n",
    "with open('singer.pickle', 'rb') as f:\n",
    "    singer = pickle.load(f)\n",
    "\n",
    "singer.sing()"
   ]
  },
  {
   "cell_type": "code",
   "execution_count": 18,
   "id": "1de9171d-06ca-48dc-8789-fb237b30651e",
   "metadata": {},
   "outputs": [],
   "source": [
    "kernel_initializer_dict = {\"relu\": \"he_normal\"}"
   ]
  },
  {
   "cell_type": "code",
   "execution_count": 31,
   "id": "6f53f579-9c19-4eaa-9112-7297d93234be",
   "metadata": {},
   "outputs": [
    {
     "data": {
      "text/plain": [
       "<keras.layers.core.Dense at 0x2489f3069d0>"
      ]
     },
     "execution_count": 31,
     "metadata": {},
     "output_type": "execute_result"
    }
   ],
   "source": [
    "hidden_layers_list[0]"
   ]
  },
  {
   "cell_type": "code",
   "execution_count": 25,
   "id": "2e485a8e-a2d7-49c7-950d-11d88c862189",
   "metadata": {},
   "outputs": [],
   "source": [
    "hidden_layers_list = [Dense(20, activation=\"relu\", kernel_initializer=kernel_initializer_dict.get(\"relu\"), name=f\"hidden_{i + 1}\") for i in range(4)]"
   ]
  },
  {
   "cell_type": "code",
   "execution_count": 38,
   "id": "8ea2d06b-05b6-4424-b1f3-ba656d2b7f4f",
   "metadata": {},
   "outputs": [],
   "source": [
    "lr_dict = {\"adam\":0.2,\"sgd\":9}"
   ]
  },
  {
   "cell_type": "code",
   "execution_count": 39,
   "id": "16dc3285-fe16-42f7-a949-3e52c3f1fdd4",
   "metadata": {},
   "outputs": [
    {
     "data": {
      "text/plain": [
       "0.2"
      ]
     },
     "execution_count": 39,
     "metadata": {},
     "output_type": "execute_result"
    }
   ],
   "source": [
    "lr_dict.get(\"adam\")"
   ]
  },
  {
   "cell_type": "code",
   "execution_count": 41,
   "id": "cc05251c-23ac-4780-992a-8b9156b3bcbc",
   "metadata": {},
   "outputs": [
    {
     "name": "stdout",
     "output_type": "stream",
     "text": [
      "[0 1 2]\n",
      "[ 0  1  2  3  4  5  6  7  8  9 10 11 12 13 14 15 16 17 18 19 20 21 22 23\n",
      " 24 25 26 27 28 29]\n"
     ]
    }
   ],
   "source": [
    "test_data = np.arange(300)\n",
    "index_1 = np.arange(3)\n",
    "print(index_1)\n",
    "index_2 = np.arange(30)\n",
    "print(index_2)\n",
    "index_3 = np.arange(300)"
   ]
  },
  {
   "cell_type": "code",
   "execution_count": 124,
   "id": "7b49a79f-7d4d-448c-9ee0-d9a7c54ae399",
   "metadata": {},
   "outputs": [],
   "source": [
    "index_1 = np.repeat(index_1.copy(),100)\n",
    "index_2 = np.repeat(index_2.copy(),10)"
   ]
  },
  {
   "cell_type": "code",
   "execution_count": 51,
   "id": "cc0df346-5b28-43c8-a8ac-22837092a8f8",
   "metadata": {},
   "outputs": [],
   "source": [
    "data_tot = np.array([index_1,index_2,index_3,test_data]).T"
   ]
  },
  {
   "cell_type": "code",
   "execution_count": 52,
   "id": "b86a65ce-200d-455f-9b49-ee35a50e04ea",
   "metadata": {},
   "outputs": [],
   "source": [
    "import pandas as pd\n",
    "data_tot = pd.DataFrame(data_tot)"
   ]
  },
  {
   "cell_type": "code",
   "execution_count": 60,
   "id": "483e7231-9c34-4391-9113-642d37724909",
   "metadata": {},
   "outputs": [],
   "source": [
    "data_tot.columns = [\"100\",\"10\",\"1\",\"data\"]"
   ]
  },
  {
   "cell_type": "code",
   "execution_count": 61,
   "id": "ad2b250c-a161-42f9-ac38-73772177bd29",
   "metadata": {},
   "outputs": [
    {
     "data": {
      "text/html": [
       "<div>\n",
       "<style scoped>\n",
       "    .dataframe tbody tr th:only-of-type {\n",
       "        vertical-align: middle;\n",
       "    }\n",
       "\n",
       "    .dataframe tbody tr th {\n",
       "        vertical-align: top;\n",
       "    }\n",
       "\n",
       "    .dataframe thead th {\n",
       "        text-align: right;\n",
       "    }\n",
       "</style>\n",
       "<table border=\"1\" class=\"dataframe\">\n",
       "  <thead>\n",
       "    <tr style=\"text-align: right;\">\n",
       "      <th></th>\n",
       "      <th>100</th>\n",
       "      <th>10</th>\n",
       "      <th>1</th>\n",
       "      <th>data</th>\n",
       "    </tr>\n",
       "  </thead>\n",
       "  <tbody>\n",
       "    <tr>\n",
       "      <th>0</th>\n",
       "      <td>0</td>\n",
       "      <td>0</td>\n",
       "      <td>0</td>\n",
       "      <td>0</td>\n",
       "    </tr>\n",
       "    <tr>\n",
       "      <th>1</th>\n",
       "      <td>0</td>\n",
       "      <td>0</td>\n",
       "      <td>1</td>\n",
       "      <td>1</td>\n",
       "    </tr>\n",
       "    <tr>\n",
       "      <th>2</th>\n",
       "      <td>0</td>\n",
       "      <td>0</td>\n",
       "      <td>2</td>\n",
       "      <td>2</td>\n",
       "    </tr>\n",
       "    <tr>\n",
       "      <th>3</th>\n",
       "      <td>0</td>\n",
       "      <td>0</td>\n",
       "      <td>3</td>\n",
       "      <td>3</td>\n",
       "    </tr>\n",
       "    <tr>\n",
       "      <th>4</th>\n",
       "      <td>0</td>\n",
       "      <td>0</td>\n",
       "      <td>4</td>\n",
       "      <td>4</td>\n",
       "    </tr>\n",
       "  </tbody>\n",
       "</table>\n",
       "</div>"
      ],
      "text/plain": [
       "   100  10  1  data\n",
       "0    0   0  0     0\n",
       "1    0   0  1     1\n",
       "2    0   0  2     2\n",
       "3    0   0  3     3\n",
       "4    0   0  4     4"
      ]
     },
     "execution_count": 61,
     "metadata": {},
     "output_type": "execute_result"
    }
   ],
   "source": [
    "data_tot.head()"
   ]
  },
  {
   "cell_type": "code",
   "execution_count": 63,
   "id": "f08dc515-3c88-47b4-90b5-acffe7f52848",
   "metadata": {},
   "outputs": [],
   "source": [
    "data_tot.set_index([\"100\",\"10\",\"1\",], inplace = True)"
   ]
  },
  {
   "cell_type": "code",
   "execution_count": 81,
   "id": "691fa0aa-7fde-4e8a-adfc-486850945851",
   "metadata": {},
   "outputs": [
    {
     "data": {
      "text/plain": [
       "Int64Index([ 0,  1,  2,  3,  4,  5,  6,  7,  8,  9, 10, 11, 12, 13, 14, 15, 16,\n",
       "            17, 18, 19, 20, 21, 22, 23, 24, 25, 26, 27, 28, 29],\n",
       "           dtype='int64', name='10')"
      ]
     },
     "execution_count": 81,
     "metadata": {},
     "output_type": "execute_result"
    }
   ],
   "source": [
    "data_tot.index.get_level_values(\"10\").unique()"
   ]
  },
  {
   "cell_type": "code",
   "execution_count": 103,
   "id": "c2d839b3-540d-4de8-9efd-d4fc851ff87b",
   "metadata": {},
   "outputs": [],
   "source": [
    "data_grouped = data_tot_2.groupby(by=['100', '10'])"
   ]
  },
  {
   "cell_type": "code",
   "execution_count": 171,
   "id": "183c7ad9-4fa8-461e-9d4c-c86c33beb779",
   "metadata": {},
   "outputs": [],
   "source": [
    "name_list = np.array(list(data_grouped.indices.keys()))"
   ]
  },
  {
   "cell_type": "code",
   "execution_count": 161,
   "id": "1dd77cf9-f516-4a88-8daa-ec0a346d5c66",
   "metadata": {},
   "outputs": [],
   "source": [
    "kf = KFold(n_splits=5, shuffle=True, random_state=0)\n"
   ]
  },
  {
   "cell_type": "code",
   "execution_count": 174,
   "id": "aec4e80b-068e-4a22-b340-bd63b49e70c2",
   "metadata": {},
   "outputs": [
    {
     "name": "stdout",
     "output_type": "stream",
     "text": [
      "fold_number = 0\n",
      "[(0, 2), (1, 10), (1, 13), (2, 24), (2, 26), (2, 28)]\n",
      "            data\n",
      "100 10 1        \n",
      "0   2  20     20\n",
      "       21     21\n",
      "       22     22\n",
      "       23     23\n",
      "       24     24\n",
      "...          ...\n",
      "2   28 285   285\n",
      "       286   286\n",
      "       287   287\n",
      "       288   288\n",
      "       289   289\n",
      "\n",
      "[120 rows x 1 columns]\n",
      "fold_number = 1\n",
      "[(0, 5), (1, 11), (1, 16), (1, 17), (2, 22), (2, 27)]\n",
      "            data\n",
      "100 10 1        \n",
      "0   5  50     50\n",
      "       51     51\n",
      "       52     52\n",
      "       53     53\n",
      "       54     54\n",
      "...          ...\n",
      "2   27 275   275\n",
      "       276   276\n",
      "       277   277\n",
      "       278   278\n",
      "       279   279\n",
      "\n",
      "[120 rows x 1 columns]\n",
      "fold_number = 2\n",
      "[(0, 1), (0, 8), (1, 14), (2, 20), (2, 23), (2, 29)]\n",
      "            data\n",
      "100 10 1        \n",
      "0   1  10     10\n",
      "       11     11\n",
      "       12     12\n",
      "       13     13\n",
      "       14     14\n",
      "...          ...\n",
      "2   29 295   295\n",
      "       296   296\n",
      "       297   297\n",
      "       298   298\n",
      "       299   299\n",
      "\n",
      "[120 rows x 1 columns]\n",
      "fold_number = 3\n",
      "[(0, 4), (0, 6), (0, 7), (0, 9), (1, 18), (1, 19)]\n",
      "            data\n",
      "100 10 1        \n",
      "0   4  40     40\n",
      "       41     41\n",
      "       42     42\n",
      "       43     43\n",
      "       44     44\n",
      "...          ...\n",
      "1   19 195   195\n",
      "       196   196\n",
      "       197   197\n",
      "       198   198\n",
      "       199   199\n",
      "\n",
      "[120 rows x 1 columns]\n",
      "fold_number = 4\n",
      "[(0, 0), (0, 3), (1, 12), (1, 15), (2, 21), (2, 25)]\n",
      "            data\n",
      "100 10 1        \n",
      "0   0  0       0\n",
      "       1       1\n",
      "       2       2\n",
      "       3       3\n",
      "       4       4\n",
      "...          ...\n",
      "2   25 255   255\n",
      "       256   256\n",
      "       257   257\n",
      "       258   258\n",
      "       259   259\n",
      "\n",
      "[120 rows x 1 columns]\n"
     ]
    }
   ],
   "source": [
    "# prepare datasets of dataframe for training and validation from dataframe\n",
    "# data_totの部分にdf_gbを入れて交差検証用のデータを粒界の種類ごとに抽出する\n",
    "data_grouped = data_tot_2.groupby(by=['100', '10']) # by [element, axis, gbindex]\n",
    "name_list = np.array(list(data_grouped.indices.keys()))\n",
    "for fold, (train_indices, val_indices) in enumerate(kf.split(name_list)):\n",
    "    # Prepare dataset\n",
    "    print(f\"fold_number = {fold}\")\n",
    "    X_train_indices, X_val_indices = name_list[train_indices], name_list[val_indices]\n",
    "    X_train_indices = list([tuple(e) for e in X_train_indices])\n",
    "    X_val_indices = list([tuple(e) for e in X_val_indices])\n",
    "    print(X_val_indices)\n",
    "    group_1 = pd.concat([data_grouped.get_group(group_name) for group_name in X_val_indices])\n",
    "    print(group_1)\n",
    "    # returnされるのは訓練用データが入ったデータフレームと検証用データが入ったデータフレーム"
   ]
  },
  {
   "cell_type": "code",
   "execution_count": 122,
   "id": "9161d84f-9d68-452c-9ae7-3a2cf1326b76",
   "metadata": {},
   "outputs": [],
   "source": [
    "group_1 = pd.concat([data_grouped.get_group(group_name) for X in gname_list])"
   ]
  },
  {
   "cell_type": "code",
   "execution_count": 175,
   "id": "bb18d62e-a3e9-4a20-b874-35566f1c5803",
   "metadata": {},
   "outputs": [
    {
     "name": "stdout",
     "output_type": "stream",
     "text": [
      "[0 1 2 3 4 5 6 7 8 9]\n",
      "[[0]\n",
      " [1]\n",
      " [2]\n",
      " [3]\n",
      " [4]\n",
      " [5]\n",
      " [6]\n",
      " [7]\n",
      " [8]\n",
      " [9]]\n"
     ]
    }
   ],
   "source": [
    "vector = np.arange(10)\n",
    "print(vector)\n",
    "vector = vector.reshape(vector.shape[0], -1)\n",
    "print(vector)"
   ]
  },
  {
   "cell_type": "code",
   "execution_count": null,
   "id": "9a54db3b-1d71-4383-84f2-29e0ce4e40b5",
   "metadata": {},
   "outputs": [],
   "source": []
  }
 ],
 "metadata": {
  "kernelspec": {
   "display_name": "Python 3 (ipykernel)",
   "language": "python",
   "name": "python3"
  },
  "language_info": {
   "codemirror_mode": {
    "name": "ipython",
    "version": 3
   },
   "file_extension": ".py",
   "mimetype": "text/x-python",
   "name": "python",
   "nbconvert_exporter": "python",
   "pygments_lexer": "ipython3",
   "version": "3.8.5"
  }
 },
 "nbformat": 4,
 "nbformat_minor": 5
}
