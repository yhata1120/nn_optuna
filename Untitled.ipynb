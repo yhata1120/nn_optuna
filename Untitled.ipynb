{
 "cells": [
  {
   "cell_type": "code",
   "execution_count": 1,
   "id": "8c87a88a",
   "metadata": {},
   "outputs": [
    {
     "name": "stdout",
     "output_type": "stream",
     "text": [
      "Not enough GPU hardware devices available\n"
     ]
    }
   ],
   "source": [
    "# githubを使って見ました!\n",
    "import os\n",
    "import numpy as np\n",
    "\n",
    "import tensorflow as tf\n",
    "physical_devices = tf.config.experimental.list_physical_devices('GPU')\n",
    "if len(physical_devices) > 0:\n",
    "    for k in range(len(physical_devices)):\n",
    "        tf.config.experimental.set_memory_growth(physical_devices[k], True)\n",
    "        print('memory growth:', tf.config.experimental.get_memory_growth(physical_devices[k]))\n",
    "else:\n",
    "    print(\"Not enough GPU hardware devices available\")\n",
    "\n",
    "from tensorflow.keras.models import Model\n",
    "from tensorflow.keras.layers import Dense, Input, Reshape, Dropout, Conv1D, MaxPooling1D, UpSampling1D, BatchNormalization\n",
    "from tensorflow.keras.utils import plot_model\n",
    "from tensorflow.keras.callbacks import EarlyStopping\n",
    "from tensorflow.keras.regularizers import l1\n",
    "import tensorflow.keras.backend as K\n",
    "\n",
    "import matplotlib.pyplot as plt\n",
    "from sklearn.metrics import r2_score"
   ]
  },
  {
   "cell_type": "code",
   "execution_count": 2,
   "id": "8e08be3e",
   "metadata": {},
   "outputs": [],
   "source": [
    "min_vmae = np.inf"
   ]
  },
  {
   "cell_type": "code",
   "execution_count": null,
   "id": "1f9d9897-c8d9-4a58-b9cd-e560c9e3dc09",
   "metadata": {},
   "outputs": [],
   "source": [
    "def main():\n",
    "    \n",
    "    # 探索試行回数を設定\n",
    "    n_trials = \n",
    "    # 最適化探索（optunaのstudyオブジェクト定義）\n",
    "    study = optuna.create_study(sampler=optuna.samplers.TPESampler())\n",
    "    # optimizeに最適化すべき目的関数（objective）を渡す。これをn_trials回試行する。目的関数の値が最小のものを探索する。\n",
    "    study.optimize(outer_objective(), n_trials)\n",
    "    # ここではouter_objective()を実行してobjective()を実行している"
   ]
  },
  {
   "cell_type": "code",
   "execution_count": null,
   "id": "3e7e102a-4598-47cb-88f3-ec54c4fae9fe",
   "metadata": {},
   "outputs": [],
   "source": [
    "# objective関数を内包する高階関数。objective関数呼び出し前に、種々の事前設定等を行う。\n",
    "def outer_objective():\n",
    "    \n",
    "    savefile = 'best_model'\n",
    "\n",
    "    X, y, n_features, n_outputs = data_set()\n",
    "\n",
    "    # ハイパーパラメータの調整設定読み込み\n",
    "    # バッチサイズ設定\n",
    "    n_bs = 8\n",
    "    # エポック数\n",
    "    nb_epochs = 3000 \n",
    "    # 収束判定ループ（エポック）回数\n",
    "    nb_patience = 300\n",
    "    # 収束判定用差分パラメータ\n",
    "    val_min_delta = 1e-5\n",
    "    \n",
    "    # 試行する中間層数の範囲設定\n",
    "    n_layer_range = ('n_layer',1,5)\n",
    "\n",
    "    # 試行する中間層のユニット（ニューロン）数の範囲設定\n",
    "    mid_units_range = ('mid_units',10,30,5)\n",
    "\n",
    "    # 試行するドロップアウト率の範囲設定\n",
    "    dropout_rate_range = ('dropout_rate',0.0,0.1)\n",
    "\n",
    "    # 試行する活性化関数のリスト設定\n",
    "    activation_list = ('activation',['relu','tanh','sigmoid'])\n",
    "\n",
    "    # 試行する最適化アルゴリズムのリスト設定\n",
    "    optimizer_list = ('optimizer',['adam'])\n",
    "    # 収束判定設定。以下の条件を満たすエポックがpatience回続いたら打切り。\n",
    "    # val_loss(観測上最小値) - min_delta  < val_loss\n",
    "    es_cb = keras.callbacks.EarlyStopping(monitor='val_loss', min_delta=val_min_delta, patience=nb_patience, verbose=1, mode='min')\n",
    "\n",
    "    print('obj_loop_start')\n",
    "\n",
    "    # 目的関数\n",
    "    def objective(trial):\n",
    "        # グローバル変数の目的関数最小値呼び出し\n",
    "        global min_vmae\n",
    "\n",
    "        # 中間層数の探索範囲設定\n",
    "        n_layer = trial.suggest_int(*n_layer_range)\n",
    "        # ユニット数の探索範囲設定\n",
    "        mid_units = int(trial.suggest_discrete_uniform(*mid_units_range))\n",
    "        # ドロップアウト率の探索範囲設定\n",
    "        dropout_rate = trial.suggest_uniform(*dropout_rate_range)\n",
    "        # 活性化関数の探索候補設定\n",
    "        activation = trial.suggest_categorical(*activation_list)\n",
    "        # 最適化アルゴリズムの探索候補設定\n",
    "        optimizer = trial.suggest_categorical(*optimizer_list)\n",
    "\n",
    "        # 学習モデルの構築と学習の開始\n",
    "        model = create_model(n_features, n_outputs, n_layer, activation, mid_units, dropout_rate, optimizer)\n",
    "        history = model.fit(X, y, verbose=0, epochs=nb_epochs, validation_split=0.1, batch_size=n_bs, callbacks=[es_cb])\n",
    "\n",
    "        # 最小値探索(各エポックで得られた目的関数のうち最小値を返す)\n",
    "        vmae = np.amin(history.history['val_mean_absolute_error'])\n",
    "\n",
    "        # これまでの最小目的関数より小さい場合更新して、最適モデルとして保存\n",
    "        if vmae < min_vmae:\n",
    "            min_vmae = vmae\n",
    "            model.save(savefile)\n",
    "\n",
    "            # 損失関数の時系列変化をグラフ表示\n",
    "            plot_loss(history)\n",
    "\n",
    "        return vmae\n",
    "    \n",
    "    return objective\n",
    "\n",
    "\n",
    "\n"
   ]
  },
  {
   "cell_type": "code",
   "execution_count": 3,
   "id": "5967e3f4-e13a-478b-92af-b471820ac560",
   "metadata": {},
   "outputs": [],
   "source": [
    "def create_model(n_features, n_outputs, n_layer, activation, mid_units, dropout_rate, optimizer):\n",
    "    # ニューラルネットワーク定義\n",
    "    model = Sequential()\n",
    "\n",
    "    # 中間層数、各ニューロン数、ドロップアウト率の定義\n",
    "    for i in range(n_layer):\n",
    "        model.add(Dense(mid_units, activation=activation, input_shape=(n_features,)))\n",
    "        model.add(Dropout(dropout_rate))\n",
    "\n",
    "    # 出力層を定義（ニューロン数は1個）\n",
    "    model.add(Dense(units=n_outputs, activation='linear'))\n",
    "    # 回帰学習モデル作成\n",
    "    model.compile(loss='mean_squared_error', optimizer=optimizer, metrics=['mae'])\n",
    "    # モデルを返す\n",
    "    return model"
   ]
  },
  {
   "cell_type": "code",
   "execution_count": null,
   "id": "9ef84e57-9cf2-4272-9e27-df08be526e5a",
   "metadata": {},
   "outputs": [],
   "source": []
  }
 ],
 "metadata": {
  "kernelspec": {
   "display_name": "Python 3 (ipykernel)",
   "language": "python",
   "name": "python3"
  },
  "language_info": {
   "codemirror_mode": {
    "name": "ipython",
    "version": 3
   },
   "file_extension": ".py",
   "mimetype": "text/x-python",
   "name": "python",
   "nbconvert_exporter": "python",
   "pygments_lexer": "ipython3",
   "version": "3.8.5"
  }
 },
 "nbformat": 4,
 "nbformat_minor": 5
}
